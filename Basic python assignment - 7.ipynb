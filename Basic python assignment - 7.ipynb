{
 "cells": [
  {
   "cell_type": "markdown",
   "id": "weekly-consumer",
   "metadata": {},
   "source": [
    "## 1. What is the function that creates Regex objects?"
   ]
  },
  {
   "cell_type": "markdown",
   "id": "announced-arabic",
   "metadata": {},
   "source": [
    "Ans: The re.compile() function returns Regex objects."
   ]
  },
  {
   "cell_type": "markdown",
   "id": "three-botswana",
   "metadata": {},
   "source": [
    "## 2. Why are raw strings often used when creating Regex objects?"
   ]
  },
  {
   "cell_type": "markdown",
   "id": "entire-bread",
   "metadata": {},
   "source": [
    "Ans: Raw strings are used so that backslashes do not have to be escaped."
   ]
  },
  {
   "cell_type": "markdown",
   "id": "parallel-isaac",
   "metadata": {},
   "source": [
    "## 3. What does the search() method return?"
   ]
  },
  {
   "cell_type": "markdown",
   "id": "arranged-investigator",
   "metadata": {},
   "source": [
    "Ans: The search() method returns Match objects."
   ]
  },
  {
   "cell_type": "markdown",
   "id": "arctic-belly",
   "metadata": {},
   "source": [
    "## 4. How do you get the actual strings that match the pattern from a Match object?"
   ]
  },
  {
   "cell_type": "markdown",
   "id": "liberal-quantum",
   "metadata": {},
   "source": [
    "Ans: The group() method returns strings of the matched text."
   ]
  },
  {
   "cell_type": "markdown",
   "id": "continuing-macintosh",
   "metadata": {},
   "source": [
    "## 5. In the regex created from r'(\\d\\d\\d)-(\\d\\d\\d-\\d\\d\\d\\d)', what does group 0 cover? Group 1? Group 2?"
   ]
  },
  {
   "cell_type": "markdown",
   "id": "former-gateway",
   "metadata": {},
   "source": [
    "Ans: Group 0 is the entire match, group 1 covers the first set of parentheses, and group 2 covers the second set of parentheses."
   ]
  },
  {
   "cell_type": "markdown",
   "id": "fabulous-charlotte",
   "metadata": {},
   "source": [
    "## 6. Parentheses and periods have specific meanings in regular expression syntax. How would you specify that you want a regex to match actual parentheses and period characters?"
   ]
  },
  {
   "cell_type": "markdown",
   "id": "typical-office",
   "metadata": {},
   "source": [
    "Ans: Periods and parentheses can be escaped with a backslash: \\., \\(, and \\)"
   ]
  },
  {
   "cell_type": "markdown",
   "id": "juvenile-scanning",
   "metadata": {},
   "source": [
    "## 7. The findall() method returns a list of strings or a list of tuples of strings. What makes it return one or the other?"
   ]
  },
  {
   "cell_type": "markdown",
   "id": "occupied-identifier",
   "metadata": {},
   "source": [
    "Ans: If the regex has no groups, a list of strings is returned. If the regex has groups, a list of tuples of strings is returned."
   ]
  },
  {
   "cell_type": "markdown",
   "id": "super-playback",
   "metadata": {},
   "source": [
    "## 8. What does the | character signify in regular expressions?"
   ]
  },
  {
   "cell_type": "markdown",
   "id": "indian-colorado",
   "metadata": {},
   "source": [
    "Ans: The | character signifies matching \"either, or\" between two groups."
   ]
  },
  {
   "cell_type": "markdown",
   "id": "editorial-algorithm",
   "metadata": {},
   "source": [
    "## 9. What two things does the ? character signify in regular expressions?"
   ]
  },
  {
   "cell_type": "markdown",
   "id": "solid-eclipse",
   "metadata": {},
   "source": [
    "Ans: The ? character can either mean \"match zero or one of the preceding group\" or be used to signify nongreedy matching."
   ]
  },
  {
   "cell_type": "markdown",
   "id": "whole-touch",
   "metadata": {},
   "source": [
    "## 10. What is the difference between the + and * characters in regular expressions?"
   ]
  },
  {
   "cell_type": "markdown",
   "id": "banner-blind",
   "metadata": {},
   "source": [
    "Ans: The + matches one or more. The * matches zero or more."
   ]
  },
  {
   "cell_type": "markdown",
   "id": "circular-questionnaire",
   "metadata": {},
   "source": [
    "## 11. What is the difference between {3} and {3,5} in regular expressions?"
   ]
  },
  {
   "cell_type": "markdown",
   "id": "labeled-reader",
   "metadata": {},
   "source": [
    "Ans: The {3} matches exactly three instances of the preceding group. The {3,5} matches between three and five instances."
   ]
  },
  {
   "cell_type": "markdown",
   "id": "complicated-singapore",
   "metadata": {},
   "source": [
    "## 12. What do the \\d, \\w, and \\s shorthand character classes signify in regular expressions?"
   ]
  },
  {
   "cell_type": "markdown",
   "id": "fitting-physics",
   "metadata": {},
   "source": [
    "Ans: The \\d, \\w, and \\s shorthand character classes match a single digit, word, or space character, respectively."
   ]
  },
  {
   "cell_type": "markdown",
   "id": "wanted-conspiracy",
   "metadata": {},
   "source": [
    "## 13. What do the \\D, \\W, and \\S shorthand character classes signify in regular expressions?"
   ]
  },
  {
   "cell_type": "markdown",
   "id": "defensive-essay",
   "metadata": {},
   "source": [
    "Ans: The \\D, \\W, and \\S shorthand character classes match a single character that is not a digit, word, or space character, respectively."
   ]
  },
  {
   "cell_type": "markdown",
   "id": "matched-highlight",
   "metadata": {},
   "source": [
    "## 14. What is the difference between .* and .*??"
   ]
  },
  {
   "cell_type": "markdown",
   "id": "manual-culture",
   "metadata": {},
   "source": [
    "Ans: The .* performs a greedy match, and the .? performs a nongreedy match."
   ]
  },
  {
   "cell_type": "markdown",
   "id": "wicked-norwegian",
   "metadata": {},
   "source": [
    "## 15. What is the character class syntax to match all numbers and lowercase letters?"
   ]
  },
  {
   "cell_type": "markdown",
   "id": "damaged-munich",
   "metadata": {},
   "source": [
    "Ans: Either [0-9a-z] or [a-z0-9]"
   ]
  },
  {
   "cell_type": "markdown",
   "id": "casual-geography",
   "metadata": {},
   "source": [
    "## 16. How do you make a regular expression case-insensitive?"
   ]
  },
  {
   "cell_type": "markdown",
   "id": "protected-metabolism",
   "metadata": {},
   "source": [
    "Ans: passing re.I or re.IGNORECASE as the second argument to re.compile() will make the matching case insensitive."
   ]
  },
  {
   "cell_type": "markdown",
   "id": "processed-breach",
   "metadata": {},
   "source": [
    "## 17. What does the . character normally match? What does it match if re.DOTALL is passed as the second argument to re.compile()?"
   ]
  },
  {
   "cell_type": "markdown",
   "id": "double-enhancement",
   "metadata": {},
   "source": [
    "Ans: The . character normally matches any character except the newline character. If re.DOTALL is passed as the second argument to re.compile(), then the dot will also match newline characters."
   ]
  },
  {
   "cell_type": "markdown",
   "id": "coral-vessel",
   "metadata": {},
   "source": [
    "## 18. If numRegex = re.compile(r'\\d+'), what will numRegex.sub('X', '12 drummers, 11 pipers, five rings, 3 hens') return?"
   ]
  },
  {
   "cell_type": "markdown",
   "id": "preliminary-neighbor",
   "metadata": {},
   "source": [
    "Ans: X drummers, X pipers, five rings, X hens"
   ]
  },
  {
   "cell_type": "markdown",
   "id": "recreational-gothic",
   "metadata": {},
   "source": [
    "## 19. What does passing re.VERBOSE as the second argument to re.compile() allow you to do?"
   ]
  },
  {
   "cell_type": "markdown",
   "id": "parental-folks",
   "metadata": {},
   "source": [
    "Ans: The re.VERBOSE argument allows you to add whitespace and comments to the string passed to re.compile()."
   ]
  },
  {
   "cell_type": "markdown",
   "id": "endangered-bride",
   "metadata": {},
   "source": [
    "##  20. How would you write a regex that matches a number with commas for every three digits? It must match the following:\n",
    "\n",
    "'42'\n",
    "'1,234'\n",
    "'6,368,745'\n",
    "\n",
    "but not the following:\n",
    "\n",
    "'12,34,567' (which has only two digits between the commas)\n",
    "'1234' (which lacks commas)\n"
   ]
  },
  {
   "cell_type": "markdown",
   "id": "speaking-prisoner",
   "metadata": {},
   "source": [
    "Ans: re.compile(r'^\\d{1,3}(,\\d{3})*$') will create this regex, but other regex strings can produce a similar regular expression."
   ]
  },
  {
   "cell_type": "markdown",
   "id": "moved-malaysia",
   "metadata": {},
   "source": [
    "## 21. How would you write a regex that matches the full name of someone whose last name is Watanabe? You can assume that the first name that comes before it will always be one word that begins with a capital letter. The regex must match the following:\n",
    "\n",
    "'Haruto Watanabe'\n",
    "'Alice Watanabe'\n",
    "'RoboCop Watanabe'\n",
    "but not the following:\n",
    "\n",
    "'haruto Watanabe' (where the first name is not capitalized)\n",
    "'Mr. Watanabe' (where the preceding word has a nonletter character)\n",
    "'Watanabe' (which has no first name)\n",
    "'Haruto watanabe' (where Watanabe is not capitalized)\n"
   ]
  },
  {
   "cell_type": "markdown",
   "id": "competent-retreat",
   "metadata": {},
   "source": [
    "Ans: re.compile(r'[A-Z][a-z]*\\sWatanabe')"
   ]
  },
  {
   "cell_type": "markdown",
   "id": "interior-estonia",
   "metadata": {},
   "source": [
    "## 22. How would you write a regex that matches a sentence where the first word is either Alice, Bob, or Carol; the second word is either eats, pets, or throws; the third word is apples, cats, or baseballs; and the sentence ends with a period? This regex should be case-insensitive. It must match the following:\n",
    "\n",
    "'Alice eats apples.'\n",
    "'Bob pets cats.'\n",
    "'Carol throws baseballs.'\n",
    "'Alice throws Apples.'\n",
    "'BOB EATS CATS.'\n",
    "\n",
    "but not the following:\n",
    "\n",
    "'RoboCop eats apples.'\n",
    "'ALICE THROWS FOOTBALLS.'\n",
    "'Carol eats 7 cats.'\n"
   ]
  },
  {
   "cell_type": "markdown",
   "id": "favorite-company",
   "metadata": {},
   "source": [
    "Ans: re.compile(r'(Alice|Bob|Carol)\\s(eats|pets|throws)\\s(apples|cats|baseballs)\\.', re.IGNORECASE)"
   ]
  },
  {
   "cell_type": "code",
   "execution_count": null,
   "id": "dietary-kitty",
   "metadata": {},
   "outputs": [],
   "source": []
  }
 ],
 "metadata": {
  "kernelspec": {
   "display_name": "Python 3",
   "language": "python",
   "name": "python3"
  },
  "language_info": {
   "codemirror_mode": {
    "name": "ipython",
    "version": 3
   },
   "file_extension": ".py",
   "mimetype": "text/x-python",
   "name": "python",
   "nbconvert_exporter": "python",
   "pygments_lexer": "ipython3",
   "version": "3.8.8"
  }
 },
 "nbformat": 4,
 "nbformat_minor": 5
}
