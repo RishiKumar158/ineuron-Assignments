{
 "cells": [
  {
   "cell_type": "markdown",
   "id": "a9901d9e",
   "metadata": {},
   "source": [
    "## 1. What is a relative path relative to?"
   ]
  },
  {
   "cell_type": "markdown",
   "id": "6b2f876d",
   "metadata": {},
   "source": [
    "Ans: Relative paths are relative to the current working directory."
   ]
  },
  {
   "cell_type": "markdown",
   "id": "cba8ca42",
   "metadata": {},
   "source": [
    "## 2. What does an absolute path start with?"
   ]
  },
  {
   "cell_type": "markdown",
   "id": "73e3f57e",
   "metadata": {},
   "source": [
    "Ans: Absolute paths start with the root folder, such as / or C:\\."
   ]
  },
  {
   "cell_type": "markdown",
   "id": "d9b43673",
   "metadata": {},
   "source": [
    "## 3. What does Path('C:/Users') / 'Al' evaluate to on Windows?"
   ]
  },
  {
   "cell_type": "markdown",
   "id": "6163f314",
   "metadata": {},
   "source": [
    "Ans: This path fisrt reaches the users folder and then goes to Al folder to make it current directory"
   ]
  },
  {
   "cell_type": "markdown",
   "id": "2f473b1e",
   "metadata": {},
   "source": [
    "## 4. What does 'C:/Users' / 'Al' evaluate to on Windows?"
   ]
  },
  {
   "cell_type": "markdown",
   "id": "fe4d1e3f",
   "metadata": {},
   "source": [
    "Ans: this command will make Al as its current directory"
   ]
  },
  {
   "cell_type": "markdown",
   "id": "9266d77f",
   "metadata": {},
   "source": [
    "## What do the os.getcwd() and os.chdir() functions do?"
   ]
  },
  {
   "cell_type": "markdown",
   "id": "10a8280c",
   "metadata": {},
   "source": [
    "Ans: The os.getcwd() function returns the current working directory. The os.chdir() function changes the current working directory"
   ]
  },
  {
   "cell_type": "markdown",
   "id": "0e46ab5e",
   "metadata": {},
   "source": [
    "## 6. What are the . and .. folders?"
   ]
  },
  {
   "cell_type": "markdown",
   "id": "17c3b043",
   "metadata": {},
   "source": [
    "Ans: The . folder is the current folder, and .. is the parent folder."
   ]
  },
  {
   "cell_type": "markdown",
   "id": "8b2d4c1a",
   "metadata": {},
   "source": [
    "## 7. In C:\\bacon\\eggs\\spam.txt, which part is the dir name, and which part is the base name?"
   ]
  },
  {
   "cell_type": "markdown",
   "id": "3e3b7752",
   "metadata": {},
   "source": [
    "Ans: C:\\bacon\\eggs is the dir name, while spam.txt is the base name."
   ]
  },
  {
   "cell_type": "markdown",
   "id": "e52381df",
   "metadata": {},
   "source": [
    "## 8. What are the three “mode” arguments that can be passed to the open() function?"
   ]
  },
  {
   "cell_type": "markdown",
   "id": "910ac631",
   "metadata": {},
   "source": [
    "Ans: The string 'r' for read mode, 'w' for write mode, and 'a' for append mode"
   ]
  },
  {
   "cell_type": "markdown",
   "id": "5f7983dc",
   "metadata": {},
   "source": [
    "## 9. What happens if an existing file is opened in write mode?"
   ]
  },
  {
   "cell_type": "markdown",
   "id": "07e041e9",
   "metadata": {},
   "source": [
    "Ans: An existing file opened in write mode is erased and completely overwritten."
   ]
  },
  {
   "cell_type": "markdown",
   "id": "ad2db8d1",
   "metadata": {},
   "source": [
    "## 10. What is the difference between the read() and readlines() methods?"
   ]
  },
  {
   "cell_type": "markdown",
   "id": "dde91a2f",
   "metadata": {},
   "source": [
    "Ans: The read() method returns the file’s entire contents as a single string value. The readlines() method returns a list of strings, where each string is a line from the file’s contents."
   ]
  },
  {
   "cell_type": "markdown",
   "id": "e8ecd468",
   "metadata": {},
   "source": [
    "## 11. What data structure does a shelf value resemble?"
   ]
  },
  {
   "cell_type": "markdown",
   "id": "a324ce1a",
   "metadata": {},
   "source": [
    "A shelf value resembles a dictionary value; it has keys and values, along with keys() and values() methods that work similarly to the dictionary methods of the same names."
   ]
  }
 ],
 "metadata": {
  "kernelspec": {
   "display_name": "Python 3",
   "language": "python",
   "name": "python3"
  },
  "language_info": {
   "codemirror_mode": {
    "name": "ipython",
    "version": 3
   },
   "file_extension": ".py",
   "mimetype": "text/x-python",
   "name": "python",
   "nbconvert_exporter": "python",
   "pygments_lexer": "ipython3",
   "version": "3.8.8"
  }
 },
 "nbformat": 4,
 "nbformat_minor": 5
}
