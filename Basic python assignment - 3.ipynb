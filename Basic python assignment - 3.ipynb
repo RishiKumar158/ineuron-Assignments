{
 "cells": [
  {
   "cell_type": "markdown",
   "id": "musical-nicaragua",
   "metadata": {},
   "source": [
    "## Why are functions advantageous to have in your programs?"
   ]
  },
  {
   "cell_type": "markdown",
   "id": "twelve-junior",
   "metadata": {},
   "source": [
    "Ans: Functions reduce the need for duplicate code. This makes programs shorter, easier to read, and easier to update. ... A function call is what moves the program execution into the function, and the function call evaluates to the function's return value."
   ]
  },
  {
   "cell_type": "markdown",
   "id": "facial-external",
   "metadata": {},
   "source": [
    "## When does the code in a function execute: when the function is defined or when the function is called?"
   ]
  },
  {
   "cell_type": "markdown",
   "id": "fifty-nowhere",
   "metadata": {},
   "source": [
    "Ans: The code in a function executes when the function is called, not when the function is defined."
   ]
  },
  {
   "cell_type": "markdown",
   "id": "assigned-nelson",
   "metadata": {},
   "source": [
    "## What statement creates a function?"
   ]
  },
  {
   "cell_type": "markdown",
   "id": "linear-syndrome",
   "metadata": {},
   "source": [
    "Ans: The def statement defines (that is, creates) a function."
   ]
  },
  {
   "cell_type": "markdown",
   "id": "dying-hunger",
   "metadata": {},
   "source": [
    "## What is the difference between a function and a function call?"
   ]
  },
  {
   "cell_type": "markdown",
   "id": "settled-inclusion",
   "metadata": {},
   "source": [
    "Ans: A function call is what moves the program execution into the function, and the function call evaluates to the function's return value."
   ]
  },
  {
   "cell_type": "markdown",
   "id": "relative-decimal",
   "metadata": {},
   "source": [
    "## How many global scopes are there in a Python program? How many local scopes?"
   ]
  },
  {
   "cell_type": "markdown",
   "id": "psychological-vanilla",
   "metadata": {},
   "source": [
    "Ans: There is one global scope, and a local scope is created whenever a function is called."
   ]
  },
  {
   "cell_type": "markdown",
   "id": "outstanding-beast",
   "metadata": {},
   "source": [
    "## What happens to variables in a local scope when the function call returns?"
   ]
  },
  {
   "cell_type": "markdown",
   "id": "vanilla-bibliography",
   "metadata": {},
   "source": [
    "Ans: When a function returns, the local scope is destroyed, and all the variables in it are forgotten."
   ]
  },
  {
   "cell_type": "markdown",
   "id": "seven-failing",
   "metadata": {},
   "source": [
    "## What is a return value? Can a return value be part of an expression?"
   ]
  },
  {
   "cell_type": "markdown",
   "id": "stainless-insight",
   "metadata": {},
   "source": [
    "Ans: A return value is the value that a function call evaluates to. Like any value, a return value can be used as part of an expression."
   ]
  },
  {
   "cell_type": "markdown",
   "id": "gorgeous-audit",
   "metadata": {},
   "source": [
    "## If a function does not have a return statement, what is the return value of a call to that function?"
   ]
  },
  {
   "cell_type": "markdown",
   "id": "fluid-sharing",
   "metadata": {},
   "source": [
    "Ans: If there is no return statement for a function, its return value is None."
   ]
  },
  {
   "cell_type": "markdown",
   "id": "reasonable-premises",
   "metadata": {},
   "source": [
    "## How can you force a variable in a function to refer to the global variable?"
   ]
  },
  {
   "cell_type": "markdown",
   "id": "seeing-stationery",
   "metadata": {},
   "source": [
    "Ans: A global statement will force a variable in a function to refer to the global variable."
   ]
  },
  {
   "cell_type": "markdown",
   "id": "varied-valve",
   "metadata": {},
   "source": [
    "## What is the data type of None?"
   ]
  },
  {
   "cell_type": "markdown",
   "id": "multiple-milton",
   "metadata": {},
   "source": [
    "Ans: The data type of None is NoneType."
   ]
  },
  {
   "cell_type": "markdown",
   "id": "conventional-prairie",
   "metadata": {},
   "source": [
    "## What does the import areallyourpetsnamederic statement do?"
   ]
  },
  {
   "cell_type": "markdown",
   "id": "explicit-membership",
   "metadata": {},
   "source": [
    "Ans: That import statement imports a module named areallyourpetsnamederic. (This isn't a real Python module, by the way.)"
   ]
  },
  {
   "cell_type": "markdown",
   "id": "deluxe-young",
   "metadata": {},
   "source": [
    "## If you had a function named bacon() in a module named spam, how would you call it after importing spam?"
   ]
  },
  {
   "cell_type": "markdown",
   "id": "stock-concrete",
   "metadata": {},
   "source": [
    "Ans: This function can be called with spam.bacon()."
   ]
  },
  {
   "cell_type": "markdown",
   "id": "spectacular-gates",
   "metadata": {},
   "source": [
    "## How can you prevent a program from crashing when it gets an error?"
   ]
  },
  {
   "cell_type": "markdown",
   "id": "adult-ethernet",
   "metadata": {},
   "source": [
    "Ans: Place the line of code that might cause an error in a try clause."
   ]
  },
  {
   "cell_type": "markdown",
   "id": "improving-release",
   "metadata": {},
   "source": [
    "## What goes in the try clause? What goes in the except clause?"
   ]
  },
  {
   "cell_type": "markdown",
   "id": "speaking-harmony",
   "metadata": {},
   "source": [
    "Ans: The code that could potentially cause an error goes in the try clause.\n",
    "\n",
    "The code that executes if an error happens goes in the except clause."
   ]
  },
  {
   "cell_type": "code",
   "execution_count": null,
   "id": "changing-dutch",
   "metadata": {},
   "outputs": [],
   "source": []
  }
 ],
 "metadata": {
  "kernelspec": {
   "display_name": "Python 3",
   "language": "python",
   "name": "python3"
  },
  "language_info": {
   "codemirror_mode": {
    "name": "ipython",
    "version": 3
   },
   "file_extension": ".py",
   "mimetype": "text/x-python",
   "name": "python",
   "nbconvert_exporter": "python",
   "pygments_lexer": "ipython3",
   "version": "3.8.8"
  }
 },
 "nbformat": 4,
 "nbformat_minor": 5
}
