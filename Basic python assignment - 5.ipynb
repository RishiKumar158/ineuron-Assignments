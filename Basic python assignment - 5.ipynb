{
 "cells": [
  {
   "cell_type": "markdown",
   "id": "wireless-object",
   "metadata": {},
   "source": [
    "## 1. What does the code for an empty dictionary look like?"
   ]
  },
  {
   "cell_type": "markdown",
   "id": "experimental-collector",
   "metadata": {},
   "source": [
    "Two curly brackets: {}"
   ]
  },
  {
   "cell_type": "markdown",
   "id": "spatial-current",
   "metadata": {},
   "source": [
    "## 2. What does a dictionary value with a key 'foo' and a value 42 look like?"
   ]
  },
  {
   "cell_type": "markdown",
   "id": "numerous-paintball",
   "metadata": {},
   "source": [
    "{'foo': 42}"
   ]
  },
  {
   "cell_type": "markdown",
   "id": "acting-republic",
   "metadata": {},
   "source": [
    "## 3. What is the main difference between a dictionary and a list?"
   ]
  },
  {
   "cell_type": "markdown",
   "id": "atlantic-objective",
   "metadata": {},
   "source": [
    "The items stored in a dictionary are unordered, while the items in a list are ordered"
   ]
  },
  {
   "cell_type": "markdown",
   "id": "accompanied-shark",
   "metadata": {},
   "source": [
    "## 5. If a dictionary is stored in spam, what is the difference between the expressions 'cat' in spam and 'cat' in spam.keys()?"
   ]
  },
  {
   "cell_type": "markdown",
   "id": "fabulous-mixture",
   "metadata": {},
   "source": [
    "There is no difference. The in operator checks whether a value exists as a key in the dictionary."
   ]
  },
  {
   "cell_type": "markdown",
   "id": "downtown-theology",
   "metadata": {},
   "source": [
    "## 6. If a dictionary is stored in spam, what is the difference between the expressions 'cat' in spam and 'cat' in spam.values()?"
   ]
  },
  {
   "cell_type": "markdown",
   "id": "worth-dominican",
   "metadata": {},
   "source": [
    "cat' in spam checks whether there is a 'cat' key in the dictionary, while 'cat' in spam.values() checks whether there is a value 'cat' for one of the keys in spam."
   ]
  },
  {
   "cell_type": "markdown",
   "id": "abstract-ambassador",
   "metadata": {},
   "source": [
    "## 7. What is a shortcut for the following code?\n",
    "\n",
    "if 'color' not in spam:\n",
    "\n",
    "    spam['color'] = 'black'\n"
   ]
  },
  {
   "cell_type": "markdown",
   "id": "deadly-scotland",
   "metadata": {},
   "source": [
    "spam.setdefault('color', 'black')"
   ]
  },
  {
   "cell_type": "markdown",
   "id": "damaged-seller",
   "metadata": {},
   "source": [
    "## 8. What module and function can be used to “pretty print” dictionary values?"
   ]
  },
  {
   "cell_type": "markdown",
   "id": "trying-medicaid",
   "metadata": {},
   "source": [
    "pprint.pprint()"
   ]
  },
  {
   "cell_type": "code",
   "execution_count": null,
   "id": "neutral-pavilion",
   "metadata": {},
   "outputs": [],
   "source": []
  }
 ],
 "metadata": {
  "kernelspec": {
   "display_name": "Python 3",
   "language": "python",
   "name": "python3"
  },
  "language_info": {
   "codemirror_mode": {
    "name": "ipython",
    "version": 3
   },
   "file_extension": ".py",
   "mimetype": "text/x-python",
   "name": "python",
   "nbconvert_exporter": "python",
   "pygments_lexer": "ipython3",
   "version": "3.8.8"
  }
 },
 "nbformat": 4,
 "nbformat_minor": 5
}
