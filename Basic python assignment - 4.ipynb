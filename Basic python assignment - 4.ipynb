{
 "cells": [
  {
   "cell_type": "markdown",
   "id": "failing-abuse",
   "metadata": {},
   "source": [
    "## 1. What is []?"
   ]
  },
  {
   "cell_type": "markdown",
   "id": "incorporated-committee",
   "metadata": {},
   "source": [
    "Ans: The empty list value, which is a list value that contains no items. This is similar to how '' is the empty string value."
   ]
  },
  {
   "cell_type": "markdown",
   "id": "acknowledged-pharmacology",
   "metadata": {},
   "source": [
    "## 2. How would you assign the value 'hello' as the third value in a list stored in a variable named spam? (Assume spam contains [2, 4, 6, 8, 10].)"
   ]
  },
  {
   "cell_type": "markdown",
   "id": "economic-argument",
   "metadata": {},
   "source": [
    "Ans: spam[2] = 'hello' (Notice that the third value in a list is at index 2 because the first index is 0.)"
   ]
  },
  {
   "cell_type": "markdown",
   "id": "expected-provider",
   "metadata": {},
   "source": [
    "### For the following three questions, let’s say spam contains the list ['a', 'b', 'c', 'd']."
   ]
  },
  {
   "cell_type": "markdown",
   "id": "meaning-manual",
   "metadata": {},
   "source": [
    "## 3. What does spam[int(int('3' * 2) // 11)] evaluate to?"
   ]
  },
  {
   "cell_type": "markdown",
   "id": "subjective-affair",
   "metadata": {},
   "source": [
    "Ans: 'd' (Note that '3' * 2 is the string '33', which is passed to int() before being divided by 11. This eventually evaluates to 3. Expressions can be used wherever values are used.)"
   ]
  },
  {
   "cell_type": "markdown",
   "id": "critical-andrews",
   "metadata": {},
   "source": [
    "## 4. What does spam[-1] evaluate to? "
   ]
  },
  {
   "cell_type": "markdown",
   "id": "grand-astrology",
   "metadata": {},
   "source": [
    "Ans: 'd' (Negative indexes count from the end.)"
   ]
  },
  {
   "cell_type": "markdown",
   "id": "emotional-problem",
   "metadata": {},
   "source": [
    "## 5. What does spam[:2] evaluate to?"
   ]
  },
  {
   "cell_type": "markdown",
   "id": "suitable-northern",
   "metadata": {},
   "source": [
    "Ans: ['a', 'b']"
   ]
  },
  {
   "cell_type": "markdown",
   "id": "settled-mississippi",
   "metadata": {},
   "source": [
    "### For the following three questions, let’s say bacon contains the list [3.14, 'cat', 11, 'cat', True]."
   ]
  },
  {
   "cell_type": "markdown",
   "id": "afraid-joshua",
   "metadata": {},
   "source": [
    "## 6. What does bacon.index('cat') evaluate to?"
   ]
  },
  {
   "cell_type": "markdown",
   "id": "civilian-toronto",
   "metadata": {},
   "source": [
    "Ans: 1"
   ]
  },
  {
   "cell_type": "markdown",
   "id": "improved-evans",
   "metadata": {},
   "source": [
    "## 7. What does bacon.append(99) make the list value in bacon look like?"
   ]
  },
  {
   "cell_type": "markdown",
   "id": "bacterial-holly",
   "metadata": {},
   "source": [
    "Ans: [3.14, 'cat', 11, 'cat', True, 99]"
   ]
  },
  {
   "cell_type": "markdown",
   "id": "unknown-magazine",
   "metadata": {},
   "source": [
    "## 8. What does bacon.remove('cat') make the list value in bacon look like?"
   ]
  },
  {
   "cell_type": "markdown",
   "id": "hundred-europe",
   "metadata": {},
   "source": [
    "Ans: [3.14, 11, 'cat', True]"
   ]
  },
  {
   "cell_type": "markdown",
   "id": "inappropriate-congress",
   "metadata": {},
   "source": [
    "## 9. What are the operators for list concatenation and list replication?"
   ]
  },
  {
   "cell_type": "markdown",
   "id": "administrative-cambridge",
   "metadata": {},
   "source": [
    "Ans: The operator for list concatenation is +, while the operator for replication is *. (This is the same as for strings.)"
   ]
  },
  {
   "cell_type": "markdown",
   "id": "rubber-introduction",
   "metadata": {},
   "source": [
    "## 10. What is the difference between the append() and insert() list methods?"
   ]
  },
  {
   "cell_type": "markdown",
   "id": "adult-patrol",
   "metadata": {},
   "source": [
    "Ans: While append() will add values only to the end of a list, insert() can add them anywhere in the list."
   ]
  },
  {
   "cell_type": "markdown",
   "id": "relative-significance",
   "metadata": {},
   "source": [
    "## 11. What are two ways to remove values from a list?"
   ]
  },
  {
   "cell_type": "markdown",
   "id": "medical-windows",
   "metadata": {},
   "source": [
    "Ans: The del statement and the remove() list method are two ways to remove values from a list."
   ]
  },
  {
   "cell_type": "markdown",
   "id": "ranking-reset",
   "metadata": {},
   "source": [
    "## 12. Name a few ways that list values are similar to string values."
   ]
  },
  {
   "cell_type": "markdown",
   "id": "demographic-tractor",
   "metadata": {},
   "source": [
    "Ans: Both lists and strings can be passed to len(), have indexes and slices, be used in for loops, be concatenated or replicated, and be used with the in and not in operators."
   ]
  },
  {
   "cell_type": "markdown",
   "id": "expensive-lambda",
   "metadata": {},
   "source": [
    "## 13. What is the difference between lists and tuples?"
   ]
  },
  {
   "cell_type": "markdown",
   "id": "directed-zealand",
   "metadata": {},
   "source": [
    "Ans: Lists are mutable; they can have values added, removed, or changed. Tuples are immutable; they cannot be changed at all. Also, tuples are written using parentheses, ( and ), while lists use the square brackets, [ and ]."
   ]
  },
  {
   "cell_type": "markdown",
   "id": "answering-ratio",
   "metadata": {},
   "source": [
    "## 14. How do you type the tuple value that has just the integer value 42 in it?"
   ]
  },
  {
   "cell_type": "markdown",
   "id": "clear-collector",
   "metadata": {},
   "source": [
    "Ans: (42,) (The trailing comma is mandatory.)"
   ]
  },
  {
   "cell_type": "markdown",
   "id": "turned-liverpool",
   "metadata": {},
   "source": [
    "## 15. How can you get the tuple form of a list value? How can you get the list form of a tuple value?"
   ]
  },
  {
   "cell_type": "markdown",
   "id": "fuzzy-organization",
   "metadata": {},
   "source": [
    "Ans: The tuple() and list() functions, respectively"
   ]
  },
  {
   "cell_type": "markdown",
   "id": "american-salon",
   "metadata": {},
   "source": [
    "## 16. Variables that “contain” list values don’t actually contain lists directly. What do they contain instead?"
   ]
  },
  {
   "cell_type": "markdown",
   "id": "proved-awareness",
   "metadata": {},
   "source": [
    "Ans: They contain references to list values."
   ]
  },
  {
   "cell_type": "markdown",
   "id": "electrical-participation",
   "metadata": {},
   "source": [
    "## What is the difference between copy.copy() and copy.deepcopy()?"
   ]
  },
  {
   "cell_type": "markdown",
   "id": "obvious-atmosphere",
   "metadata": {},
   "source": [
    "Ans: The copy.copy() function will do a shallow copy of a list, while the copy.deepcopy() function will do a deep copy of a list. That is, only copy.deepcopy() will duplicate any lists inside the list."
   ]
  },
  {
   "cell_type": "code",
   "execution_count": null,
   "id": "lyric-ordinary",
   "metadata": {},
   "outputs": [],
   "source": []
  }
 ],
 "metadata": {
  "kernelspec": {
   "display_name": "Python 3",
   "language": "python",
   "name": "python3"
  },
  "language_info": {
   "codemirror_mode": {
    "name": "ipython",
    "version": 3
   },
   "file_extension": ".py",
   "mimetype": "text/x-python",
   "name": "python",
   "nbconvert_exporter": "python",
   "pygments_lexer": "ipython3",
   "version": "3.8.8"
  }
 },
 "nbformat": 4,
 "nbformat_minor": 5
}
