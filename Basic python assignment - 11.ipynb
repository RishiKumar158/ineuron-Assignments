{
 "cells": [
  {
   "cell_type": "markdown",
   "id": "924277eb",
   "metadata": {},
   "source": [
    "## 1. Write an assert statement that triggers an AssertionError if the variable spam is an integer less than 10."
   ]
  },
  {
   "cell_type": "markdown",
   "id": "2b8c7c73",
   "metadata": {},
   "source": [
    "Ans: assert spam >= 10, 'The spam variable is less than 10.'"
   ]
  },
  {
   "cell_type": "markdown",
   "id": "d9835056",
   "metadata": {},
   "source": [
    "## 2. Write an assert statement that triggers an AssertionError if the variables eggs and bacon contain strings that are the same as each other, even if their cases are different (that is, 'hello' and 'hello' are considered the same, and 'goodbye' and 'GOODbye' are also considered the same)."
   ]
  },
  {
   "cell_type": "markdown",
   "id": "23944353",
   "metadata": {},
   "source": [
    "Ans: assert eggs.lower() != bacon.lower(), 'The eggs and bacon variables are the same!' or assert eggs.upper() != bacon.upper(), 'The eggs and bacon variables are the same!'"
   ]
  },
  {
   "cell_type": "markdown",
   "id": "300cd975",
   "metadata": {},
   "source": [
    "## 3. Write an assert statement that always triggers an AssertionError."
   ]
  },
  {
   "cell_type": "markdown",
   "id": "6f6848e0",
   "metadata": {},
   "source": [
    "Ans: assert False, 'This assertion always triggers.'"
   ]
  },
  {
   "cell_type": "markdown",
   "id": "c75d8c24",
   "metadata": {},
   "source": [
    "## 4. What are the two lines that your program must have in order to be able to call logging.debug()?"
   ]
  },
  {
   "cell_type": "markdown",
   "id": "d7f104dc",
   "metadata": {},
   "source": [
    "To be able to call logging.debug(), you must have these two lines at the start of your program:\n",
    "\n",
    "\n",
    "import logging\n",
    "\n",
    "logging.basicConfig(level=logging.DEBUG, format=' %(asctime)s -\n",
    "\n",
    "%(levelname)s - %(message)s')"
   ]
  },
  {
   "cell_type": "markdown",
   "id": "584025cc",
   "metadata": {},
   "source": [
    "## 5. What are the two lines that your program must have in order to have logging.debug() send a logging message to a file named programLog.txt?"
   ]
  },
  {
   "cell_type": "markdown",
   "id": "884409cb",
   "metadata": {},
   "source": [
    "To be able to send logging messages to a file named programLog.txt with logging.debug(), you must have these two lines at the start of your program:\n",
    "\n",
    "\n",
    "import logging\n",
    "\n",
    "logging.basicConfig(filename='programLog.txt', \n",
    "\n",
    "level=logging.DEBUG,\n",
    "\n",
    "format=' %(asctime)s - %(levelname)s - %(message)s')"
   ]
  },
  {
   "cell_type": "markdown",
   "id": "4dfd6e8b",
   "metadata": {},
   "source": [
    "## 6. What are the five logging levels?"
   ]
  },
  {
   "cell_type": "markdown",
   "id": "192c3671",
   "metadata": {},
   "source": [
    "Ans: DEBUG, INFO, WARNING, ERROR, and CRITICAL"
   ]
  },
  {
   "cell_type": "markdown",
   "id": "2b5f474a",
   "metadata": {},
   "source": [
    "## 7. What line of code can you add to disable all logging messages in your program?"
   ]
  },
  {
   "cell_type": "markdown",
   "id": "5c480763",
   "metadata": {},
   "source": [
    "Ans: logging.disable(logging.CRITICAL)"
   ]
  },
  {
   "cell_type": "markdown",
   "id": "b8e07011",
   "metadata": {},
   "source": [
    "## 8. Why is using logging messages better than using print() to display the same message?"
   ]
  },
  {
   "cell_type": "markdown",
   "id": "74195ea3",
   "metadata": {},
   "source": [
    "Ans: You can disable logging messages without removing the logging function calls. You can selectively disable lower-level logging messages. You can create logging messages. Logging messages provides a timestamp."
   ]
  },
  {
   "cell_type": "markdown",
   "id": "54713fde",
   "metadata": {},
   "source": [
    "## 9. What are the differences between the Step Over, Step In, and Step Out buttons in the debugger?"
   ]
  },
  {
   "cell_type": "markdown",
   "id": "cf85cc69",
   "metadata": {},
   "source": [
    "Ans: The Step button will move the debugger into a function call. The Over button will quickly execute the function call without stepping into it. The Out button will quickly execute the rest of the code until it steps out of the function it currently is in."
   ]
  },
  {
   "cell_type": "markdown",
   "id": "de8b1001",
   "metadata": {},
   "source": [
    "## 10. After you click Continue, when will the debugger stop?"
   ]
  },
  {
   "cell_type": "markdown",
   "id": "1e773614",
   "metadata": {},
   "source": [
    "Ans: After you click Go, the debugger will stop when it has reached the end of the program or a line with a breakpoint."
   ]
  },
  {
   "cell_type": "markdown",
   "id": "3fa14905",
   "metadata": {},
   "source": [
    "## 11. What is a breakpoint?"
   ]
  },
  {
   "cell_type": "markdown",
   "id": "39d8525d",
   "metadata": {},
   "source": [
    "Ans: A breakpoint is a setting on a line of code that causes the debugger to pause when the program execution reaches the line."
   ]
  },
  {
   "cell_type": "markdown",
   "id": "42ff96b7",
   "metadata": {},
   "source": [
    "## 12. How do you set a breakpoint on a line of code in Mu?"
   ]
  },
  {
   "cell_type": "markdown",
   "id": "f11ee2dd",
   "metadata": {},
   "source": [
    "Ans: To set a breakpoint in Mu, right-click the line and select Set Breakpoint from the context menu."
   ]
  },
  {
   "cell_type": "code",
   "execution_count": null,
   "id": "0543945c",
   "metadata": {},
   "outputs": [],
   "source": []
  }
 ],
 "metadata": {
  "kernelspec": {
   "display_name": "Python 3",
   "language": "python",
   "name": "python3"
  },
  "language_info": {
   "codemirror_mode": {
    "name": "ipython",
    "version": 3
   },
   "file_extension": ".py",
   "mimetype": "text/x-python",
   "name": "python",
   "nbconvert_exporter": "python",
   "pygments_lexer": "ipython3",
   "version": "3.8.8"
  }
 },
 "nbformat": 4,
 "nbformat_minor": 5
}
