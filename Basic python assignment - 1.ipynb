{
 "cells": [
  {
   "cell_type": "markdown",
   "id": "protecting-shape",
   "metadata": {},
   "source": [
    "## 1. Which of the following are operators, and which are values?\n",
    "\n",
    "*\n",
    "\n",
    "'hello'\n",
    "\n",
    "-88.8\n",
    "\n",
    "-\n",
    "\n",
    "/\n",
    "\n",
    "+\n",
    "\n",
    "5"
   ]
  },
  {
   "cell_type": "markdown",
   "id": "particular-identification",
   "metadata": {},
   "source": [
    "Operators: +, -, *, /\n",
    "\n",
    "Values: 'hello', -88.5, 5"
   ]
  },
  {
   "cell_type": "markdown",
   "id": "vulnerable-record",
   "metadata": {},
   "source": [
    "## 2. Which of the following is a variable, and which is a string?\n",
    "\n",
    "spam\n",
    "\n",
    "'spam'"
   ]
  },
  {
   "cell_type": "markdown",
   "id": "supreme-executive",
   "metadata": {},
   "source": [
    "Variable: spam\n",
    "String: 'spam'\n",
    "\n",
    "Strings always start and end with quotes"
   ]
  },
  {
   "cell_type": "markdown",
   "id": "pending-ridge",
   "metadata": {},
   "source": [
    "## 3. Name three data types."
   ]
  },
  {
   "cell_type": "markdown",
   "id": "emotional-health",
   "metadata": {},
   "source": [
    "Integers, floating-point numbers, and strings."
   ]
  },
  {
   "cell_type": "markdown",
   "id": "incomplete-allen",
   "metadata": {},
   "source": [
    "## 4. What is an expression made up of? What do all expressions do?"
   ]
  },
  {
   "cell_type": "markdown",
   "id": "technological-landscape",
   "metadata": {},
   "source": [
    "An expression is a combination of values and operators. All expressions evaluate (that is, reduce) to a single value."
   ]
  },
  {
   "cell_type": "markdown",
   "id": "lesser-employee",
   "metadata": {},
   "source": [
    "## 5. This chapter introduced assignment statements, like spam = 10. What is the difference between an expression and a statement?"
   ]
  },
  {
   "cell_type": "markdown",
   "id": "sudden-juice",
   "metadata": {},
   "source": [
    "An expression evaluates to a single value. A statement does not."
   ]
  },
  {
   "cell_type": "markdown",
   "id": "utility-museum",
   "metadata": {},
   "source": [
    "## 6. What does the variable bacon contain after the following code runs?\n",
    "\n",
    "bacon = 20\n",
    "\n",
    "bacon + 1"
   ]
  },
  {
   "cell_type": "markdown",
   "id": "specific-stockholm",
   "metadata": {},
   "source": [
    "The bacon variable is set to 20. The bacon + 1 expression does not reassign the value in bacon (that would need an assignment statement: bacon = bacon + 1)"
   ]
  },
  {
   "cell_type": "markdown",
   "id": "impossible-commodity",
   "metadata": {},
   "source": [
    "## 7. What should the following two expressions evaluate to?\n",
    "\n",
    "'spam' + 'spamspam'\n",
    "\n",
    "'spam' * 3"
   ]
  },
  {
   "cell_type": "markdown",
   "id": "activated-hospital",
   "metadata": {},
   "source": [
    "Both expressions evaluate to the string 'spamspamspam'"
   ]
  },
  {
   "cell_type": "markdown",
   "id": "documented-deposit",
   "metadata": {},
   "source": [
    "## 8. Why is eggs a valid variable name while 100 is invalid?"
   ]
  },
  {
   "cell_type": "markdown",
   "id": "funky-leave",
   "metadata": {},
   "source": [
    "Variable names cannot begin with a number."
   ]
  },
  {
   "cell_type": "markdown",
   "id": "metropolitan-configuration",
   "metadata": {},
   "source": [
    "## 9. What three functions can be used to get the integer, floating-point number, or string version of a value?"
   ]
  },
  {
   "cell_type": "markdown",
   "id": "every-ballet",
   "metadata": {},
   "source": [
    "The int(), float(), and str() functions will evaluate to the integer, floating-point number, and string versions of the value passed to them."
   ]
  },
  {
   "cell_type": "markdown",
   "id": "exempt-biography",
   "metadata": {},
   "source": [
    "## 10. Why does this expression cause an error? How can you fix it?\n",
    "\n",
    "'I have eaten ' + 99 + ' burritos.'"
   ]
  },
  {
   "cell_type": "markdown",
   "id": "sized-spray",
   "metadata": {},
   "source": [
    "The expression causes an error because 99 is an integer, and only strings can be concatenated to other strings with the + operator. The correct way is I have eaten ' + str(99) + ' burritos.'."
   ]
  },
  {
   "cell_type": "code",
   "execution_count": null,
   "id": "worldwide-gentleman",
   "metadata": {},
   "outputs": [],
   "source": []
  }
 ],
 "metadata": {
  "kernelspec": {
   "display_name": "Python 3",
   "language": "python",
   "name": "python3"
  },
  "language_info": {
   "codemirror_mode": {
    "name": "ipython",
    "version": 3
   },
   "file_extension": ".py",
   "mimetype": "text/x-python",
   "name": "python",
   "nbconvert_exporter": "python",
   "pygments_lexer": "ipython3",
   "version": "3.8.8"
  }
 },
 "nbformat": 4,
 "nbformat_minor": 5
}
