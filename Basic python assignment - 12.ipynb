{
 "cells": [
  {
   "cell_type": "markdown",
   "id": "b76da8a6",
   "metadata": {},
   "source": [
    "## 1. A string value of the PDF filename is not passed to the PyPDF2.PdfFileReader() function. What do you pass to the function instead?"
   ]
  },
  {
   "cell_type": "markdown",
   "id": "9895d9a9",
   "metadata": {},
   "source": [
    "Ans: A File object returned from open()"
   ]
  },
  {
   "cell_type": "markdown",
   "id": "ed923075",
   "metadata": {},
   "source": [
    "## 2. What modes do the File objects for PdfFileReader() and PdfFileWriter() need to be opened in?"
   ]
  },
  {
   "cell_type": "markdown",
   "id": "a5b49f9f",
   "metadata": {},
   "source": [
    "ans: Read-binary ('rb') for PdfFileReader() and write-binary ('wb') for PdfFileWriter()"
   ]
  },
  {
   "cell_type": "markdown",
   "id": "78e19079",
   "metadata": {},
   "source": [
    "## 3. How do you acquire a Page object for page 5 from a PdfFileReader object?"
   ]
  },
  {
   "cell_type": "markdown",
   "id": "7414b21c",
   "metadata": {},
   "source": [
    "ans: 3. How do you acquire a Page object for page 5 from a PdfFileReader object?"
   ]
  },
  {
   "cell_type": "markdown",
   "id": "cee88fd2",
   "metadata": {},
   "source": [
    "## 4. What PdfFileReader variable stores the number of pages in the PDF document?"
   ]
  },
  {
   "cell_type": "markdown",
   "id": "a09e3d35",
   "metadata": {},
   "source": [
    "ans: The numPages variable stores an integer of the number of pages in the PdfFileReader object."
   ]
  },
  {
   "cell_type": "markdown",
   "id": "2f3098d1",
   "metadata": {},
   "source": [
    "## 5. If a PdfFileReader object’s PDF is encrypted with the password swordfish, what must you do before you can obtain Page objects from it?"
   ]
  },
  {
   "cell_type": "markdown",
   "id": "0edfe1b0",
   "metadata": {},
   "source": [
    "ans: Call decrypt('swordfish')."
   ]
  },
  {
   "cell_type": "markdown",
   "id": "349f3197",
   "metadata": {},
   "source": [
    "## 6. What methods do you use to rotate a page?"
   ]
  },
  {
   "cell_type": "markdown",
   "id": "4c2b6fa8",
   "metadata": {},
   "source": [
    "ans: The rotateClockwise() and rotateCounterClockwise() methods. The degrees to rotate is passed as an integer argument."
   ]
  },
  {
   "cell_type": "markdown",
   "id": "65953625",
   "metadata": {},
   "source": [
    "## 7. What method returns a Document object for a file named demo.docx?"
   ]
  },
  {
   "cell_type": "markdown",
   "id": "f635ace5",
   "metadata": {},
   "source": [
    "ans: docx.Document('demo.docx')"
   ]
  },
  {
   "cell_type": "markdown",
   "id": "78d90e5a",
   "metadata": {},
   "source": [
    "## 8. What is the difference between a Paragraph object and a Run object?"
   ]
  },
  {
   "cell_type": "markdown",
   "id": "14aa5fe5",
   "metadata": {},
   "source": [
    "ans: A document contains multiple paragraphs. A paragraph begins on a new line and contains multiple runs. Runs are contiguous groups of characters within a paragraph."
   ]
  },
  {
   "cell_type": "markdown",
   "id": "fa504b04",
   "metadata": {},
   "source": [
    "## 9. How do you obtain a list of Paragraph objects for a Document object that’s stored in a variable named doc?"
   ]
  },
  {
   "cell_type": "markdown",
   "id": "2e779f92",
   "metadata": {},
   "source": [
    "ans: Use doc.paragraphs."
   ]
  },
  {
   "cell_type": "markdown",
   "id": "df58aac3",
   "metadata": {},
   "source": [
    "## 10. What type of object has bold, underline, italic, strike, and outline variables?"
   ]
  },
  {
   "cell_type": "markdown",
   "id": "fa08ca01",
   "metadata": {},
   "source": [
    "ans: A Run object has these variables (not a Paragraph)."
   ]
  },
  {
   "cell_type": "markdown",
   "id": "b39e505c",
   "metadata": {},
   "source": [
    "## 11. What is the difference between setting the bold variable to True, False, or None?"
   ]
  },
  {
   "cell_type": "markdown",
   "id": "f55cf657",
   "metadata": {},
   "source": [
    "ans: True always makes the Run object bolded and False makes it always not bolded, no matter what the style’s bold setting is. None will make the Run object just use the style’s bold setting."
   ]
  },
  {
   "cell_type": "markdown",
   "id": "2f670e79",
   "metadata": {},
   "source": [
    "## 12. How do you create a Document object for a new Word document?"
   ]
  },
  {
   "cell_type": "markdown",
   "id": "e0686917",
   "metadata": {},
   "source": [
    "ans: Call the docx.Document() function."
   ]
  },
  {
   "cell_type": "markdown",
   "id": "02280724",
   "metadata": {},
   "source": [
    "## 13. How do you add a paragraph with the text 'Hello, there!' to a Document object stored in a variable named doc?"
   ]
  },
  {
   "cell_type": "markdown",
   "id": "642209a7",
   "metadata": {},
   "source": [
    "ans: doc.add_paragraph('Hello there!')"
   ]
  },
  {
   "cell_type": "markdown",
   "id": "1ad2eb52",
   "metadata": {},
   "source": [
    "## 14. What integers represent the levels of headings available in Word documents?"
   ]
  },
  {
   "cell_type": "markdown",
   "id": "b9e047ed",
   "metadata": {},
   "source": [
    "ans: The integers 0, 1, 2, 3, and 4"
   ]
  },
  {
   "cell_type": "code",
   "execution_count": null,
   "id": "ea865b6e",
   "metadata": {},
   "outputs": [],
   "source": []
  }
 ],
 "metadata": {
  "kernelspec": {
   "display_name": "Python 3",
   "language": "python",
   "name": "python3"
  },
  "language_info": {
   "codemirror_mode": {
    "name": "ipython",
    "version": 3
   },
   "file_extension": ".py",
   "mimetype": "text/x-python",
   "name": "python",
   "nbconvert_exporter": "python",
   "pygments_lexer": "ipython3",
   "version": "3.8.8"
  }
 },
 "nbformat": 4,
 "nbformat_minor": 5
}
