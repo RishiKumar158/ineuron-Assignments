{
 "cells": [
  {
   "cell_type": "markdown",
   "id": "removable-victory",
   "metadata": {},
   "source": [
    "## 1. What are escape characters?"
   ]
  },
  {
   "cell_type": "markdown",
   "id": "determined-health",
   "metadata": {},
   "source": [
    "Ans: Escape characters represent characters in string values that would otherwise be difficult or impossible to type into code"
   ]
  },
  {
   "cell_type": "markdown",
   "id": "informed-scout",
   "metadata": {},
   "source": [
    "## 2. What do the \\n and \\t escape characters represent?"
   ]
  },
  {
   "cell_type": "markdown",
   "id": "korean-brief",
   "metadata": {},
   "source": [
    "Ans: \\n is a newline; \\t is a tab"
   ]
  },
  {
   "cell_type": "markdown",
   "id": "flush-hindu",
   "metadata": {},
   "source": [
    "## 3. How can you put a \\ backslash character in a string?"
   ]
  },
  {
   "cell_type": "markdown",
   "id": "aggressive-heading",
   "metadata": {},
   "source": [
    "Ans: The \\\\ escape character will represent a backslash character."
   ]
  },
  {
   "cell_type": "markdown",
   "id": "floral-return",
   "metadata": {},
   "source": [
    "## 4. The string value \"Howl's Moving Castle\" is a valid string. Why isn’t it a problem that the single quote character in the word Howl's isn’t escaped?"
   ]
  },
  {
   "cell_type": "markdown",
   "id": "elegant-harbor",
   "metadata": {},
   "source": [
    "Ans: The single quote in Howl's is fine because you've used double quotes to mark the beginning and end of the string."
   ]
  },
  {
   "cell_type": "markdown",
   "id": "elegant-consequence",
   "metadata": {},
   "source": [
    "## 5. If you don’t want to put \\n in your string, how can you write a string with newlines in it?"
   ]
  },
  {
   "cell_type": "markdown",
   "id": "popular-seafood",
   "metadata": {},
   "source": [
    "Ans: Multiline strings allow you to use newlines in strings without the \\n escape character."
   ]
  },
  {
   "cell_type": "markdown",
   "id": "certain-settle",
   "metadata": {},
   "source": [
    "## 6. What do the following expressions evaluate to?\n",
    "'Hello, world!'[1]\n",
    "\n",
    "'Hello, world!'[0:5]\n",
    "\n",
    "'Hello, world!'[:5]\n",
    "\n",
    "'Hello, world!'[3:]"
   ]
  },
  {
   "cell_type": "markdown",
   "id": "minimal-symposium",
   "metadata": {},
   "source": [
    "Ans: The expressions evaluate to the following:\n",
    "\n",
    "'e'\n",
    "\n",
    "'Hello'\n",
    "\n",
    "'Hello'\n",
    "\n",
    "'lo world!"
   ]
  },
  {
   "cell_type": "markdown",
   "id": "social-judge",
   "metadata": {},
   "source": [
    "## 7. What do the following expressions evaluate to?\n",
    "\n",
    "'Hello'.upper()\n",
    "\n",
    "'Hello'.upper().isupper()\n",
    "\n",
    "'Hello'.upper().lower()"
   ]
  },
  {
   "cell_type": "markdown",
   "id": "arranged-intake",
   "metadata": {},
   "source": [
    "Ans: The expressions evaluate to the following:\n",
    "\n",
    "'HELLO'\n",
    "\n",
    "True\n",
    "\n",
    "'hello'"
   ]
  },
  {
   "cell_type": "markdown",
   "id": "sitting-effects",
   "metadata": {},
   "source": [
    "## 8. What do the following expressions evaluate to?\n",
    "\n",
    "'Remember, remember, the fifth of November.'.split()\n",
    "\n",
    "'-'.join('There can be only one.'.split())"
   ]
  },
  {
   "cell_type": "markdown",
   "id": "modular-fantasy",
   "metadata": {},
   "source": [
    "The expressions evaluate to the following:\n",
    "\n",
    "['Remember,', 'remember,', 'the', 'fifth', 'of', 'November.']\n",
    "\n",
    "'There-can-be-only-one."
   ]
  },
  {
   "cell_type": "markdown",
   "id": "silent-horizon",
   "metadata": {},
   "source": [
    "## 9. What string methods can you use to right-justify, left-justify, and center a string?"
   ]
  },
  {
   "cell_type": "markdown",
   "id": "opposed-conservation",
   "metadata": {},
   "source": [
    "Ans: The rjust(), ljust(), and center() string methods, respectively"
   ]
  },
  {
   "cell_type": "markdown",
   "id": "quiet-profession",
   "metadata": {},
   "source": [
    "## 10. How can you trim whitespace characters from the beginning or end of a string?"
   ]
  },
  {
   "cell_type": "markdown",
   "id": "animal-success",
   "metadata": {},
   "source": [
    "Ans: The lstrip() and rstrip() methods remove whitespace from the left and right ends of a string, respectively."
   ]
  }
 ],
 "metadata": {
  "kernelspec": {
   "display_name": "Python 3",
   "language": "python",
   "name": "python3"
  },
  "language_info": {
   "codemirror_mode": {
    "name": "ipython",
    "version": 3
   },
   "file_extension": ".py",
   "mimetype": "text/x-python",
   "name": "python",
   "nbconvert_exporter": "python",
   "pygments_lexer": "ipython3",
   "version": "3.8.8"
  }
 },
 "nbformat": 4,
 "nbformat_minor": 5
}
