{
 "cells": [
  {
   "cell_type": "markdown",
   "id": "lined-anthropology",
   "metadata": {},
   "source": [
    "## 1. What are the two values of the Boolean data type? How do you write them?"
   ]
  },
  {
   "cell_type": "markdown",
   "id": "historic-chess",
   "metadata": {},
   "source": [
    "True and False, using capital T and F, with the rest of the word in lowercase"
   ]
  },
  {
   "cell_type": "markdown",
   "id": "mineral-withdrawal",
   "metadata": {},
   "source": [
    "## 2. What are the three Boolean operators?"
   ]
  },
  {
   "cell_type": "markdown",
   "id": "reserved-stroke",
   "metadata": {},
   "source": [
    "and, or, and not"
   ]
  },
  {
   "cell_type": "markdown",
   "id": "blind-malawi",
   "metadata": {},
   "source": [
    "## 3. Write out the truth tables of each Boolean operator (that is, every possible combination of Boolean values for the operator and what they evaluate to)."
   ]
  },
  {
   "cell_type": "markdown",
   "id": "nominated-afghanistan",
   "metadata": {},
   "source": [
    "True and True is True.\n",
    "\n",
    "True and False is False.\n",
    "\n",
    "False and True is False.\n",
    "\n",
    "False and False is False.\n",
    "\n",
    "True or True is True.\n",
    "\n",
    "True or False is True.\n",
    "\n",
    "False or True is True.\n",
    "\n",
    "False or False is False.\n",
    "\n",
    "not True is False.\n",
    "\n",
    "not False is True."
   ]
  },
  {
   "cell_type": "markdown",
   "id": "sharing-express",
   "metadata": {},
   "source": [
    "## 4. What do the following expressions evaluate to?\n",
    "\n",
    "(5 > 4) and (3 == 5)\n",
    "\n",
    "not (5 > 4)\n",
    "\n",
    "(5 > 4) or (3 == 5)\n",
    "\n",
    "not ((5 > 4) or (3 == 5))\n",
    "\n",
    "(True and True) and (True == False)\n",
    "\n",
    "(not False) or (not True)"
   ]
  },
  {
   "cell_type": "markdown",
   "id": "expressed-upper",
   "metadata": {},
   "source": [
    "False\n",
    "False\n",
    "True\n",
    "False\n",
    "False\n",
    "True"
   ]
  },
  {
   "cell_type": "markdown",
   "id": "decent-participation",
   "metadata": {},
   "source": [
    "## 5. What are the six comparison operators?"
   ]
  },
  {
   "cell_type": "markdown",
   "id": "incident-harassment",
   "metadata": {},
   "source": [
    "==, !=, <, >, <=, and >="
   ]
  },
  {
   "cell_type": "markdown",
   "id": "metropolitan-conservative",
   "metadata": {},
   "source": [
    "## 6. What is the difference between the equal to operator and the assignment operator?"
   ]
  },
  {
   "cell_type": "markdown",
   "id": "mediterranean-harassment",
   "metadata": {},
   "source": [
    "== is the equal to operator that compares two values and evaluates to a Boolean, while = is the assignment operator that stores a value in a variable."
   ]
  },
  {
   "cell_type": "markdown",
   "id": "consecutive-supplier",
   "metadata": {},
   "source": [
    "## 7. Explain what a condition is and where you would use one."
   ]
  },
  {
   "cell_type": "markdown",
   "id": "hidden-seven",
   "metadata": {},
   "source": [
    "A condition is an expression used in a flow control statement that evaluates to a Boolean value."
   ]
  },
  {
   "cell_type": "markdown",
   "id": "prime-environment",
   "metadata": {},
   "source": [
    "## 8. Identify the three blocks in this code:\n",
    "\n",
    "spam = 0\n",
    "\n",
    "if spam == 10:\n",
    "\n",
    "    print('eggs')\n",
    "    \n",
    "    if spam > 5:\n",
    "    \n",
    "        print('bacon')\n",
    "        \n",
    "    else:\n",
    "    \n",
    "        print('ham')\n",
    "        \n",
    "    print('spam')\n",
    "    \n",
    "print('spam')"
   ]
  },
  {
   "cell_type": "markdown",
   "id": "noted-genre",
   "metadata": {},
   "source": [
    "Ans: The three blocks are everything inside the if statement and the lines print('bacon') and print('ham').\n",
    "\n",
    "print('eggs')\n",
    "\n",
    "if spam > 5:\n",
    "\n",
    "print('bacon')\n",
    "\n",
    "else:\n",
    "\n",
    "print('ham')\n",
    "\n",
    "print('spam')"
   ]
  },
  {
   "cell_type": "markdown",
   "id": "civic-smith",
   "metadata": {},
   "source": [
    "## 9. Write code that prints Hello if 1 is stored in spam, prints Howdy if 2 is stored in spam, and prints Greetings! if anything else is stored in spam."
   ]
  },
  {
   "cell_type": "code",
   "execution_count": 13,
   "id": "central-chapel",
   "metadata": {},
   "outputs": [],
   "source": [
    "spam = 1"
   ]
  },
  {
   "cell_type": "code",
   "execution_count": 14,
   "id": "processed-bunny",
   "metadata": {},
   "outputs": [
    {
     "name": "stdout",
     "output_type": "stream",
     "text": [
      "Hello\n"
     ]
    }
   ],
   "source": [
    "if spam == 1:\n",
    "    print('Hello')\n",
    "elif spam == 2:\n",
    "    print('Howdy')\n",
    "else:\n",
    "    print('Greetings!')"
   ]
  },
  {
   "cell_type": "markdown",
   "id": "sustainable-arthritis",
   "metadata": {},
   "source": [
    "## 10. What keys can you press if your program is stuck in an infinite loop?"
   ]
  },
  {
   "cell_type": "markdown",
   "id": "green-missouri",
   "metadata": {},
   "source": [
    "Press CTRL-C to stop a program stuck in an infinite loop."
   ]
  },
  {
   "cell_type": "markdown",
   "id": "extra-liver",
   "metadata": {},
   "source": [
    "## 11. What is the difference between break and continue?"
   ]
  },
  {
   "cell_type": "markdown",
   "id": "specialized-hands",
   "metadata": {},
   "source": [
    "The break statement will move the execution outside and just after a loop. The continue statement will move the execution to the start of the loop."
   ]
  },
  {
   "cell_type": "markdown",
   "id": "binding-miracle",
   "metadata": {},
   "source": [
    "## 12. What is the difference between range(10), range(0, 10), and range(0, 10, 1) in a for loop?"
   ]
  },
  {
   "cell_type": "markdown",
   "id": "welcome-blade",
   "metadata": {},
   "source": [
    "They all do the same thing. The range(10) call ranges from 0 up to (but not including) 10, range(0, 10) explicitly tells the loop to start at 0, and range(0, 10, 1) explicitly tells the loop to increase the variable by 1 on each iteration."
   ]
  },
  {
   "cell_type": "markdown",
   "id": "painted-samba",
   "metadata": {},
   "source": [
    "## 13. Write a short program that prints the numbers 1 to 10 using a for loop. Then write an equivalent program that prints the numbers 1 to 10 using a while loop."
   ]
  },
  {
   "cell_type": "markdown",
   "id": "yellow-painting",
   "metadata": {},
   "source": [
    "for i in range(1, 11):\n",
    "\n",
    "    print(i)\n",
    "    \n",
    "and \n",
    "\n",
    "i = 1\n",
    "\n",
    "while i <= 10:\n",
    "\n",
    "    print(i)\n",
    "    \n",
    "    i = i + 1"
   ]
  },
  {
   "cell_type": "markdown",
   "id": "infinite-latter",
   "metadata": {},
   "source": [
    "## 14. If you had a function named bacon() inside a module named spam, how would you call it after importing spam?"
   ]
  },
  {
   "cell_type": "markdown",
   "id": "automotive-basketball",
   "metadata": {},
   "source": [
    "This function can be called with spam.bacon()."
   ]
  },
  {
   "cell_type": "code",
   "execution_count": null,
   "id": "piano-hampshire",
   "metadata": {},
   "outputs": [],
   "source": []
  }
 ],
 "metadata": {
  "kernelspec": {
   "display_name": "Python 3",
   "language": "python",
   "name": "python3"
  },
  "language_info": {
   "codemirror_mode": {
    "name": "ipython",
    "version": 3
   },
   "file_extension": ".py",
   "mimetype": "text/x-python",
   "name": "python",
   "nbconvert_exporter": "python",
   "pygments_lexer": "ipython3",
   "version": "3.8.8"
  }
 },
 "nbformat": 4,
 "nbformat_minor": 5
}
