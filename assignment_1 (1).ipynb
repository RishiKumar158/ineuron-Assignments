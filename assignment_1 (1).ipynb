{
 "cells": [
  {
   "cell_type": "markdown",
   "id": "after-actor",
   "metadata": {},
   "source": [
    "1. What are the differences between operators and values in the following?\n",
    "*\n",
    "'hello'\n",
    "-87.8\n",
    "-\n",
    "/\n",
    "+\n",
    "6"
   ]
  },
  {
   "cell_type": "markdown",
   "id": "neither-security",
   "metadata": {},
   "source": [
    "Ans: The Operators are used to do operations between values \n",
    "The operators are like +, -, /, *\n",
    "The Values are ‘hello’, -87.8, 6."
   ]
  },
  {
   "cell_type": "markdown",
   "id": "roman-celtic",
   "metadata": {},
   "source": [
    "2. What is the difference between string and variable?\n",
    "spam\n",
    "'spam'"
   ]
  },
  {
   "cell_type": "markdown",
   "id": "direct-prediction",
   "metadata": {},
   "source": [
    "Ans: Spam is a variable which is used to store information that we required to use in our programming.\n",
    "Where ‘spam’ is a string this is one of type we store in the variable."
   ]
  },
  {
   "cell_type": "markdown",
   "id": "prospective-timber",
   "metadata": {},
   "source": [
    "3. Describe three different data forms.\n",
    "\n",
    "Ans:\n",
    "1. Qualitative and Quantitative.\n",
    "2. Continuous and Discrete Data.\n",
    "3. Primary and Secondary Data."
   ]
  },
  {
   "cell_type": "markdown",
   "id": "twelve-artist",
   "metadata": {},
   "source": [
    "4. What makes up an expression? What are the functions of all expressions?\n",
    "\n",
    "Ans: Expression: An Expression is an combination of operators, constants, and variables. An Expression may consist of one or more operands, and zero or more to produce a value.\n",
    "The function of an expression is to evaluate and determine its value.\n"
   ]
  },
  {
   "cell_type": "markdown",
   "id": "ultimate-military",
   "metadata": {},
   "source": [
    "5. In this chapter, assignment statements such as spam = 10 were added. What's the difference between a declaration and an expression?\n",
    "\n",
    "Ans: if we take spam = 10\n",
    "The declaration is the “spam” and the expression is the making spam equals to 10.\n"
   ]
  },
  {
   "cell_type": "markdown",
   "id": "musical-upper",
   "metadata": {},
   "source": [
    "6. After running the following code, what does the variable bacon contain?\n",
    "\n",
    "bacon = 22\n",
    "\n",
    "bacon + 1\n",
    "\n",
    "Ans:\n",
    "The bacon value is still 22 because we doing operation but not an assignment. \n"
   ]
  },
  {
   "cell_type": "markdown",
   "id": "gross-receptor",
   "metadata": {},
   "source": [
    "7. What should the values of the following two terms be?\n",
    "\n",
    "'spam' + 'spamspam'\n",
    "\n",
    "'spam' * 3\n",
    "\n",
    "Ans:\n",
    "For both it is same value that is “spamspamspam”\n"
   ]
  },
  {
   "cell_type": "markdown",
   "id": "super-implementation",
   "metadata": {},
   "source": [
    "8. Why is it that eggs is a true variable name but 100 is not?\n",
    "\n",
    "Ans: Beacause variables cannot be a number and eggs is an alphabetic so it can be variable.\n",
    "There are some rules to make an number.\n"
   ]
  },
  {
   "cell_type": "markdown",
   "id": "eleven-trustee",
   "metadata": {},
   "source": [
    "9. Which of the following three functions may be used to convert a value to an integer, a floating-point number, or a string?\n",
    "\n",
    "Ans:\n",
    "Int(),float(),str()\n",
    "\n",
    "Int() for converting into integer, float() for converting into floating point number, str() to convert into string.\n",
    "\n",
    "Int(10) => 10, float(10) => 10.0, str(10) => “10”\n"
   ]
  },
  {
   "cell_type": "markdown",
   "id": "contained-trauma",
   "metadata": {},
   "source": [
    "10. What is the error caused by this expression? What would you do about it?\n",
    "\n",
    "'I have eaten ' + 99 + ' burritos.'\n",
    "\n",
    "Ans:\n",
    "We are trying to concatenate string and a number which is not possible.\n"
   ]
  }
 ],
 "metadata": {
  "kernelspec": {
   "display_name": "Python 3",
   "language": "python",
   "name": "python3"
  },
  "language_info": {
   "codemirror_mode": {
    "name": "ipython",
    "version": 3
   },
   "file_extension": ".py",
   "mimetype": "text/x-python",
   "name": "python",
   "nbconvert_exporter": "python",
   "pygments_lexer": "ipython3",
   "version": "3.8.5"
  }
 },
 "nbformat": 4,
 "nbformat_minor": 5
}
