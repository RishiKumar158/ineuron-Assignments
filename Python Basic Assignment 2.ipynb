{
 "cells": [
  {
   "cell_type": "markdown",
   "id": "indonesian-compiler",
   "metadata": {},
   "source": [
    "### What are the Boolean data type's two values? How do you go about writing them?\n",
    "\n",
    "True and False\n",
    "\n",
    "The Value of True is 1\n",
    "The Value if False  is 0"
   ]
  },
  {
   "cell_type": "markdown",
   "id": "artificial-cooperation",
   "metadata": {},
   "source": [
    "### What are the three different types of Boolean operators?\n",
    "\n",
    "AND\n",
    "OR\n",
    "NOT"
   ]
  },
  {
   "cell_type": "markdown",
   "id": "multiple-decline",
   "metadata": {},
   "source": [
    "### Make a list of each Boolean operator's truth tables (i.e. every possible combination of Boolean values for the operator and what it evaluate."
   ]
  },
  {
   "cell_type": "markdown",
   "id": "polar-yorkshire",
   "metadata": {},
   "source": [
    "### ' condition 1               X   condition2             Y   \t      not of x         ~ X\t    X and Y      X && Y \t     X OR Y        X || Y '\n",
    "\n",
    "               false\t     false\t               true\t            false\t             false\n",
    "               false\t     true\t               true\t            false\t             true\n",
    "               true\t         false\t               false\t        false\t             true\n",
    "               true\t         true\t               false\t        true\t             true"
   ]
  },
  {
   "cell_type": "markdown",
   "id": "rational-pocket",
   "metadata": {},
   "source": [
    "### What are the values of the following expressions?\n",
    "\n",
    "(5 > 4) and (3 == 5)\n",
    "\n",
    "not (5 > 4)\n",
    "\n",
    "(5 > 4) or (3 == 5)\n",
    "\n",
    "not ((5 > 4) or (3 == 5))\n",
    "\n",
    "(True and True) and (True == False)\n",
    "\n",
    "(not False) or (not True)"
   ]
  },
  {
   "cell_type": "code",
   "execution_count": 2,
   "id": "electoral-bottom",
   "metadata": {},
   "outputs": [
    {
     "data": {
      "text/plain": [
       "False"
      ]
     },
     "execution_count": 2,
     "metadata": {},
     "output_type": "execute_result"
    }
   ],
   "source": [
    "(5 > 4) and (3 == 5)"
   ]
  },
  {
   "cell_type": "code",
   "execution_count": 3,
   "id": "minor-capital",
   "metadata": {},
   "outputs": [
    {
     "data": {
      "text/plain": [
       "False"
      ]
     },
     "execution_count": 3,
     "metadata": {},
     "output_type": "execute_result"
    }
   ],
   "source": [
    "not(5 > 4)"
   ]
  },
  {
   "cell_type": "code",
   "execution_count": 4,
   "id": "empty-hobby",
   "metadata": {},
   "outputs": [
    {
     "data": {
      "text/plain": [
       "True"
      ]
     },
     "execution_count": 4,
     "metadata": {},
     "output_type": "execute_result"
    }
   ],
   "source": [
    "(5 > 4) or (3 == 5)"
   ]
  },
  {
   "cell_type": "code",
   "execution_count": 5,
   "id": "excellent-phenomenon",
   "metadata": {},
   "outputs": [
    {
     "data": {
      "text/plain": [
       "False"
      ]
     },
     "execution_count": 5,
     "metadata": {},
     "output_type": "execute_result"
    }
   ],
   "source": [
    "(True and True) and (True == False)"
   ]
  },
  {
   "cell_type": "code",
   "execution_count": 6,
   "id": "alpha-stocks",
   "metadata": {},
   "outputs": [
    {
     "data": {
      "text/plain": [
       "True"
      ]
     },
     "execution_count": 6,
     "metadata": {},
     "output_type": "execute_result"
    }
   ],
   "source": [
    "(not False) or (not True)"
   ]
  },
  {
   "cell_type": "markdown",
   "id": "fatty-confidentiality",
   "metadata": {},
   "source": [
    "### What are the six different types of reference operators?"
   ]
  },
  {
   "cell_type": "markdown",
   "id": "brief-adrian",
   "metadata": {},
   "source": [
    "'>'\n",
    "\n",
    "<\n",
    "\n",
    "<=\n",
    "\n",
    "'>='\n",
    "\n",
    "!=\n",
    "\n",
    "==\n",
    "\n",
    "<>"
   ]
  },
  {
   "cell_type": "markdown",
   "id": "sensitive-improvement",
   "metadata": {},
   "source": [
    "### How do you tell the difference between the equal to and assignment operators?\n",
    "\n",
    "The Differebce between equal and assignment operator is equal operator consists of 2 equal signs(==)\n",
    "\n",
    "whereas assignment operator consists of 1 equal sign (=)"
   ]
  },
  {
   "cell_type": "markdown",
   "id": "buried-prophet",
   "metadata": {},
   "source": [
    "### Describe a condition and when you would use one\n",
    "\n",
    "The different conditions are if ,ifelse,elif\n",
    "\n",
    "Conditional Statement in Python perform different computations or actions depending on whether a specific Boolean constraint evaluates to true or false. Conditional statements are handled by IF statements in Python."
   ]
  },
  {
   "cell_type": "code",
   "execution_count": 8,
   "id": "municipal-scope",
   "metadata": {},
   "outputs": [
    {
     "name": "stdout",
     "output_type": "stream",
     "text": [
      "ham\n",
      "spam\n",
      "spam\n"
     ]
    }
   ],
   "source": [
    "spam = 0\n",
    "if spam == 10:\n",
    "    print('eggs')\n",
    "if spam > 5:\n",
    "    print('bacon')\n",
    "else:\n",
    "    print('ham')\n",
    "    print('spam')\n",
    "print('spam')"
   ]
  },
  {
   "cell_type": "markdown",
   "id": "lovely-reducing",
   "metadata": {},
   "source": [
    "### Create a programme that prints. If 1 is stored in spam, prints Hello; if 2 is stored in spam, prints Howdy; and if 3 is stored in spam, prints Salutations! if there's something else in spam."
   ]
  },
  {
   "cell_type": "code",
   "execution_count": 13,
   "id": "executed-pavilion",
   "metadata": {},
   "outputs": [
    {
     "name": "stdout",
     "output_type": "stream",
     "text": [
      "4\n",
      "spam\n"
     ]
    }
   ],
   "source": [
    "spam = int(input())\n",
    "if spam == 1:\n",
    "    print(\"Hello\")\n",
    "elif spam == 2:\n",
    "    print('Howdy')\n",
    "elif spam == 3:\n",
    "    print('Salutations')\n",
    "else:\n",
    "    print('spam')"
   ]
  },
  {
   "cell_type": "markdown",
   "id": "practical-pattern",
   "metadata": {},
   "source": [
    "### If your programme is stuck in an endless loop, what keys can you press?\n",
    "\n",
    "To interrupt the kernel we will press I,I(I twice)"
   ]
  },
  {
   "cell_type": "markdown",
   "id": "attempted-radical",
   "metadata": {},
   "source": [
    "### How can you tell the difference between break and continue?\n",
    "\n",
    "Break leaves the loop completely and executes the statements after the loop. Whereas Continue leaves the current iteration and executes with the next value in the loop. break completely exits the loop. continue skips the statements after the continue statement and keeps looping."
   ]
  },
  {
   "cell_type": "markdown",
   "id": "sudden-underground",
   "metadata": {},
   "source": [
    "### In a for loop, what is the difference between range(10), range(0, 10), and range(0, 10, 1)?"
   ]
  },
  {
   "cell_type": "code",
   "execution_count": 14,
   "id": "hydraulic-mirror",
   "metadata": {},
   "outputs": [
    {
     "data": {
      "text/plain": [
       "[0, 1, 2, 3, 4, 5, 6, 7, 8, 9]"
      ]
     },
     "execution_count": 14,
     "metadata": {},
     "output_type": "execute_result"
    }
   ],
   "source": [
    "list(range(10))"
   ]
  },
  {
   "cell_type": "code",
   "execution_count": 15,
   "id": "moderate-wrestling",
   "metadata": {},
   "outputs": [
    {
     "data": {
      "text/plain": [
       "[0, 1, 2, 3, 4, 5, 6, 7, 8, 9]"
      ]
     },
     "execution_count": 15,
     "metadata": {},
     "output_type": "execute_result"
    }
   ],
   "source": [
    "list(range(0,10))"
   ]
  },
  {
   "cell_type": "code",
   "execution_count": 16,
   "id": "later-management",
   "metadata": {},
   "outputs": [
    {
     "data": {
      "text/plain": [
       "[0, 1, 2, 3, 4, 5, 6, 7, 8, 9]"
      ]
     },
     "execution_count": 16,
     "metadata": {},
     "output_type": "execute_result"
    }
   ],
   "source": [
    "list(range(0,10,1))"
   ]
  },
  {
   "cell_type": "markdown",
   "id": "civilian-sheriff",
   "metadata": {},
   "source": [
    "These three gives same output in forloop if you give only one number by default it starts from 0 and upto excluding that given number\n",
    "\n",
    "if range(0,10)\n",
    "if will go from 0 to 9 (excluding 10)\n",
    "\n",
    "the third argument given is step size"
   ]
  },
  {
   "cell_type": "markdown",
   "id": "electrical-lithuania",
   "metadata": {},
   "source": [
    "### Using a for loop, write a short programme that prints the numbers 1 to 10 Then, using a while loop, create an identical programme that prints the numbers 1 to 10."
   ]
  },
  {
   "cell_type": "code",
   "execution_count": 18,
   "id": "mechanical-exercise",
   "metadata": {},
   "outputs": [
    {
     "name": "stdout",
     "output_type": "stream",
     "text": [
      "0 1 2 3 4 5 6 7 8 9 10 "
     ]
    }
   ],
   "source": [
    "for i in range(11):\n",
    "    print(i,end = ' ')"
   ]
  },
  {
   "cell_type": "code",
   "execution_count": 20,
   "id": "editorial-peace",
   "metadata": {},
   "outputs": [
    {
     "name": "stdout",
     "output_type": "stream",
     "text": [
      "0 1 2 3 4 5 6 7 8 9 10 "
     ]
    }
   ],
   "source": [
    "i = 0\n",
    "while i <= 10:\n",
    "    print(i, end = ' ')\n",
    "    i += 1"
   ]
  },
  {
   "cell_type": "markdown",
   "id": "different-sugar",
   "metadata": {},
   "source": [
    "### If you had a bacon() function within a spam module, what would you call it after importing spam?"
   ]
  },
  {
   "cell_type": "code",
   "execution_count": 27,
   "id": "distinguished-journal",
   "metadata": {},
   "outputs": [
    {
     "name": "stdout",
     "output_type": "stream",
     "text": [
      "Hello\n"
     ]
    }
   ],
   "source": [
    "def spam(msg): # This is the outer enclosing function\n",
    "    \n",
    "    def bacon():# This is the nested function\n",
    "        print(msg)\n",
    "\n",
    "    return bacon  # this got changed\n",
    "\n",
    "# Now let's try calling this function.\n",
    "# Output: Hello\n",
    "another = spam(\"Hello\")\n",
    "another()"
   ]
  },
  {
   "cell_type": "code",
   "execution_count": null,
   "id": "loaded-wealth",
   "metadata": {},
   "outputs": [],
   "source": []
  }
 ],
 "metadata": {
  "kernelspec": {
   "display_name": "Python 3",
   "language": "python",
   "name": "python3"
  },
  "language_info": {
   "codemirror_mode": {
    "name": "ipython",
    "version": 3
   },
   "file_extension": ".py",
   "mimetype": "text/x-python",
   "name": "python",
   "nbconvert_exporter": "python",
   "pygments_lexer": "ipython3",
   "version": "3.8.5"
  }
 },
 "nbformat": 4,
 "nbformat_minor": 5
}
